{
 "cells": [
  {
   "cell_type": "markdown",
   "metadata": {},
   "source": [
    "# 데이터 타입\n",
    "- list\n",
    "- tuple\n",
    "- dictionary\n",
    "- string"
   ]
  },
  {
   "cell_type": "code",
   "execution_count": 3,
   "metadata": {},
   "outputs": [
    {
     "name": "stdout",
     "output_type": "stream",
     "text": [
      "[10, 20]\n",
      "[10, 20, 30]\n",
      "[40, 50]\n"
     ]
    }
   ],
   "source": [
    "a = [10,20,30,40,50]\n",
    "print(a[0:2])\n",
    "print(a[:-2])\n",
    "print(a[-2:])"
   ]
  },
  {
   "cell_type": "code",
   "execution_count": 6,
   "metadata": {
    "scrolled": true
   },
   "outputs": [
    {
     "name": "stdout",
     "output_type": "stream",
     "text": [
      "(10, 20)\n",
      "(10, 20, 30)\n",
      "(40, 50)\n"
     ]
    },
    {
     "ename": "TypeError",
     "evalue": "'tuple' object does not support item assignment",
     "output_type": "error",
     "traceback": [
      "\u001b[1;31m---------------------------------------------------------------------------\u001b[0m",
      "\u001b[1;31mTypeError\u001b[0m                                 Traceback (most recent call last)",
      "\u001b[1;32m<ipython-input-6-c24ec9652310>\u001b[0m in \u001b[0;36m<module>\u001b[1;34m\u001b[0m\n\u001b[0;32m      3\u001b[0m \u001b[0mprint\u001b[0m\u001b[1;33m(\u001b[0m\u001b[0ma\u001b[0m\u001b[1;33m[\u001b[0m\u001b[1;33m:\u001b[0m\u001b[1;33m-\u001b[0m\u001b[1;36m2\u001b[0m\u001b[1;33m]\u001b[0m\u001b[1;33m)\u001b[0m\u001b[1;33m\u001b[0m\u001b[1;33m\u001b[0m\u001b[0m\n\u001b[0;32m      4\u001b[0m \u001b[0mprint\u001b[0m\u001b[1;33m(\u001b[0m\u001b[0ma\u001b[0m\u001b[1;33m[\u001b[0m\u001b[1;33m-\u001b[0m\u001b[1;36m2\u001b[0m\u001b[1;33m:\u001b[0m\u001b[1;33m]\u001b[0m\u001b[1;33m)\u001b[0m\u001b[1;33m\u001b[0m\u001b[1;33m\u001b[0m\u001b[0m\n\u001b[1;32m----> 5\u001b[1;33m \u001b[0ma\u001b[0m\u001b[1;33m[\u001b[0m\u001b[1;36m0\u001b[0m\u001b[1;33m]\u001b[0m\u001b[1;33m=\u001b[0m\u001b[1;36m1\u001b[0m\u001b[1;33m\u001b[0m\u001b[1;33m\u001b[0m\u001b[0m\n\u001b[0m\u001b[0;32m      6\u001b[0m \u001b[1;31m# 튜플은 한번 생성되면 값 변경 불가능 (Read Only type)\u001b[0m\u001b[1;33m\u001b[0m\u001b[1;33m\u001b[0m\u001b[1;33m\u001b[0m\u001b[0m\n",
      "\u001b[1;31mTypeError\u001b[0m: 'tuple' object does not support item assignment"
     ]
    }
   ],
   "source": [
    "a = (10,20,30,40,50)\n",
    "print(a[0:2])\n",
    "print(a[:-2])\n",
    "print(a[-2:])\n",
    "a[0]=1\n",
    "# 튜플은 한번 생성되면 값 변경 불가능 (Read Only type)"
   ]
  },
  {
   "cell_type": "code",
   "execution_count": 48,
   "metadata": {},
   "outputs": [
    {
     "name": "stdout",
     "output_type": "stream",
     "text": [
      "1\n",
      "2\n",
      "3 4\n",
      "(3, 4)\n"
     ]
    }
   ],
   "source": [
    "# packing, unpacking\n",
    "a,b = 1,2\n",
    "print(a)\n",
    "print(b)\n",
    "c = (3,4)\n",
    "d,e = c\n",
    "print(d,e) # d,e 각각에 c의 원소들이 들어감 => unpacking\n",
    "f = d,e\n",
    "print(f) # d,e를 f에 packing\n",
    "# 함수의 리턴값 여러개 전달 가능"
   ]
  },
  {
   "cell_type": "code",
   "execution_count": 53,
   "metadata": {},
   "outputs": [
    {
     "name": "stdout",
     "output_type": "stream",
     "text": [
      "3 4\n",
      "('KIM', 90) ('LEE', 80)\n"
     ]
    }
   ],
   "source": [
    "print(*f) \n",
    "c = {'KIM':90, 'LEE':80}\n",
    "print(*c.items())"
   ]
  },
  {
   "cell_type": "code",
   "execution_count": 10,
   "metadata": {},
   "outputs": [
    {
     "name": "stdout",
     "output_type": "stream",
     "text": [
      "dict_keys(['KIM', 'LEE']) dict_values([90, 80]) dict_items([('KIM', 90), ('LEE', 80)])\n"
     ]
    }
   ],
   "source": [
    "c = {'KIM':90, 'LEE':80}\n",
    "print(c.keys(),c.values(),c.items())"
   ]
  },
  {
   "cell_type": "code",
   "execution_count": 9,
   "metadata": {},
   "outputs": [
    {
     "name": "stdout",
     "output_type": "stream",
     "text": [
      "<class 'list'> <class 'tuple'> <class 'dict'> <class 'str'>\n",
      "5 5 2 12\n"
     ]
    }
   ],
   "source": [
    "# useful function 1\n",
    "a = [10,20,30,40,50]\n",
    "b = (10,20,30,40,50)\n",
    "c = {'KIM':90, 'LEE':80}\n",
    "d = 'Seoul, Korea'\n",
    "e = [[100,200],[300,400],[500,600]]\n",
    "print(type(a),type(b),type(c),type(d))\n",
    "print(len(a),len(b),len(c),len(d))\n"
   ]
  },
  {
   "cell_type": "code",
   "execution_count": 12,
   "metadata": {},
   "outputs": [
    {
     "name": "stdout",
     "output_type": "stream",
     "text": [
      "['H', 'e', 'l', 'l', 'o'] ['KIM', 'LEE'] [90, 80] [('KIM', 90), ('LEE', 80)]\n"
     ]
    }
   ],
   "source": [
    "# useful function 2\n",
    "a = 'Hello'\n",
    "b = {'KIM':90, 'LEE':80}\n",
    "print(list(a),list(b.keys()),list(b.values()),list(b.items()))"
   ]
  },
  {
   "cell_type": "markdown",
   "metadata": {},
   "source": [
    "# for문"
   ]
  },
  {
   "cell_type": "code",
   "execution_count": 13,
   "metadata": {},
   "outputs": [
    {
     "name": "stdout",
     "output_type": "stream",
     "text": [
      "[0, 1, 4, 9, 16]\n"
     ]
    }
   ],
   "source": [
    "# list comprehension\n",
    "list_data = [x**2 for x in range(5)]\n",
    "print(list_data)"
   ]
  },
  {
   "cell_type": "code",
   "execution_count": 16,
   "metadata": {},
   "outputs": [
    {
     "name": "stdout",
     "output_type": "stream",
     "text": [
      "[[1, 10], [2, 15], [3, 30], [4, 55]]\n",
      "[1, 2, 3, 4]\n",
      "[10, 15, 30, 55]\n"
     ]
    }
   ],
   "source": [
    "raw_data = [[1,10],[2,15],[3,30],[4,55]]\n",
    "all_data = [x for x in raw_data]\n",
    "x_data = [x[0] for x in raw_data]\n",
    "y_data = [x[1] for x in raw_data]\n",
    "\n",
    "print(all_data)\n",
    "print(x_data)\n",
    "print(y_data)"
   ]
  },
  {
   "cell_type": "code",
   "execution_count": 18,
   "metadata": {},
   "outputs": [],
   "source": [
    "even_number = [x for x in range(10) if x % 2==0 ]"
   ]
  },
  {
   "cell_type": "code",
   "execution_count": 19,
   "metadata": {},
   "outputs": [
    {
     "data": {
      "text/plain": [
       "[0, 2, 4, 6, 8]"
      ]
     },
     "execution_count": 19,
     "metadata": {},
     "output_type": "execute_result"
    }
   ],
   "source": [
    "even_number"
   ]
  },
  {
   "cell_type": "markdown",
   "metadata": {},
   "source": [
    "# 함수"
   ]
  },
  {
   "cell_type": "code",
   "execution_count": 21,
   "metadata": {},
   "outputs": [
    {
     "name": "stdout",
     "output_type": "stream",
     "text": [
      "30\n",
      "101 102 103\n"
     ]
    }
   ],
   "source": [
    "# 함수에 들어갈 인자의 타입을 정해줄 필요가 없다\n",
    "def sumation(x,y):\n",
    "    s= x+y\n",
    "    return s\n",
    "print(sumation(10,20))\n",
    "\n",
    "# 여러개의 결과 반환 가능\n",
    "def multi_ret_func(x):\n",
    "    return x+1, x+2, x+3\n",
    "x = 100\n",
    "y1,y2,y3 = multi_ret_func(x)\n",
    "print(y1,y2,y3)"
   ]
  },
  {
   "cell_type": "code",
   "execution_count": 26,
   "metadata": {},
   "outputs": [
    {
     "name": "stdout",
     "output_type": "stream",
     "text": [
      "JYP\n",
      "JYP\n",
      "mutable: 1 immutable: [1, 2, 3, 100]\n"
     ]
    }
   ],
   "source": [
    "# default parameter\n",
    "def print_name(name, count=2):\n",
    "    for i in range(count):\n",
    "        print(name)\n",
    "print_name('JYP')\n",
    "\n",
    "# mutable & immutable\n",
    "def mu_immu_func(int_x,input_list):\n",
    "    int_x +=1\n",
    "    input_list.append(100)\n",
    "x=1\n",
    "test_list = [1,2,3]\n",
    "\n",
    "mu_immu_func(x,test_list)\n",
    "print('mutable:',x,'immutable:', test_list)\n",
    "# mutalbe: list, dict, numpy 등의 자료형은 함수에 의해 원본 데이터가 바뀜\n",
    "# immutable: 문자, 숫자, tuple 자료형은 원본데이터에 변화가 생기지 않음\n"
   ]
  },
  {
   "cell_type": "markdown",
   "metadata": {},
   "source": [
    "# lambda 함수\n",
    "- 수치미분, 신경망함수에 자주 사용됨\n",
    "- 함수명 = lambda 입력1, 입력2,...: 대체되는 표현식"
   ]
  },
  {
   "cell_type": "code",
   "execution_count": 28,
   "metadata": {},
   "outputs": [
    {
     "name": "stdout",
     "output_type": "stream",
     "text": [
      "100\n",
      "101\n",
      "102\n",
      "input1 == 100 input2 ==  200\n",
      "hello python\n"
     ]
    }
   ],
   "source": [
    "f = lambda x: x+100\n",
    "for i in range(3):\n",
    "    print(f(i))\n",
    "    \n",
    "def print_hello():\n",
    "    print('hello python')\n",
    "    \n",
    "def test_lambda(s,t):\n",
    "    print('input1 ==',s,'input2 == ',t)\n",
    "    \n",
    "s=100\n",
    "t=200\n",
    "\n",
    "fx = lambda x,y : test_lambda(s,t)    # fx(x,y) = test_lambda(s,t)\n",
    "fy = lambda x,y : print_hello()       # fy(x,y) = print_hello()\n",
    "\n",
    "fx(500,1000)\n",
    "fy(300,600)"
   ]
  },
  {
   "cell_type": "markdown",
   "metadata": {},
   "source": [
    "# 클래스"
   ]
  },
  {
   "cell_type": "code",
   "execution_count": 30,
   "metadata": {},
   "outputs": [
    {
     "name": "stdout",
     "output_type": "stream",
     "text": [
      "JYP is initialized\n",
      "JYPis working in ABCDEF\n",
      "JYPis sleeping\n"
     ]
    }
   ],
   "source": [
    "class Person:\n",
    "    def __init__(self, name):   # __init__ 클래스 생성시 반드시 필요\n",
    "        self.name = name\n",
    "        print(self.name + ' is initialized')\n",
    "        \n",
    "    def work(self,company):     # 각 메서드 생성시 self인자로 반드시 필요\n",
    "        print(self.name + 'is working in ' + company )\n",
    "        \n",
    "    def sleep(self):\n",
    "        print(self.name + 'is sleeping')\n",
    "        \n",
    "obj = Person('JYP')\n",
    "obj.work('ABCDEF')\n",
    "obj.sleep()"
   ]
  },
  {
   "cell_type": "code",
   "execution_count": 32,
   "metadata": {},
   "outputs": [
    {
     "name": "stdout",
     "output_type": "stream",
     "text": [
      "JYP is initialized\n",
      "KIM is initialized\n",
      "JYPis working in ABCDEF\n",
      "KIMis sleeping\n",
      "current person object is  JYP KIM\n",
      "person count == 2\n",
      "2\n"
     ]
    }
   ],
   "source": [
    "# class variable은 Person이라는 class를 통해 생성된 객체들이 모두 공유하는 변수\n",
    "\n",
    "class Person:\n",
    "    count = 0 # class_variable\n",
    "    \n",
    "    def __init__(self, name):   # __init__ 클래스 생성시 반드시 필요\n",
    "        self.name = name\n",
    "        Person.count += 1\n",
    "        print(self.name + ' is initialized')\n",
    "        \n",
    "    def work(self,company):     # 각 메서드 생성시 self인자로 반드시 필요\n",
    "        print(self.name + 'is working in ' + company )\n",
    "        \n",
    "    def sleep(self):\n",
    "        print(self.name + 'is sleeping')\n",
    "    \n",
    "    @classmethod\n",
    "    def getCount(cls): #class method\n",
    "        return cls.count\n",
    "        \n",
    "obj1 = Person('JYP')\n",
    "obj2 = Person('KIM')\n",
    "obj1.work('ABCDEF')\n",
    "obj2.sleep()\n",
    "\n",
    "# Person 클래스를 통해 2개의 객체가 생성되었기 때문에 count = 2\n",
    "\n",
    "print('current person object is ', obj1.name,obj2.name)\n",
    "print('person count ==',Person.getCount())\n",
    "print(Person.count)"
   ]
  },
  {
   "cell_type": "code",
   "execution_count": 36,
   "metadata": {},
   "outputs": [
    {
     "name": "stdout",
     "output_type": "stream",
     "text": [
      "initialized with PARK  ,KIM\n",
      "PARK\n",
      "PARK KIM\n",
      "('PARK', 'KIM')\n"
     ]
    },
    {
     "ename": "AttributeError",
     "evalue": "'PrivateMemberTest' object has no attribute '__printNames'",
     "output_type": "error",
     "traceback": [
      "\u001b[1;31m---------------------------------------------------------------------------\u001b[0m",
      "\u001b[1;31mAttributeError\u001b[0m                            Traceback (most recent call last)",
      "\u001b[1;32m<ipython-input-36-cb96042f9183>\u001b[0m in \u001b[0;36m<module>\u001b[1;34m\u001b[0m\n\u001b[0;32m     18\u001b[0m \u001b[0mprint\u001b[0m\u001b[1;33m(\u001b[0m\u001b[0mobj\u001b[0m\u001b[1;33m.\u001b[0m\u001b[0mname1\u001b[0m\u001b[1;33m)\u001b[0m\u001b[1;33m\u001b[0m\u001b[1;33m\u001b[0m\u001b[0m\n\u001b[0;32m     19\u001b[0m \u001b[0mprint\u001b[0m\u001b[1;33m(\u001b[0m\u001b[0mobj\u001b[0m\u001b[1;33m.\u001b[0m\u001b[0mgetNames\u001b[0m\u001b[1;33m(\u001b[0m\u001b[1;33m)\u001b[0m\u001b[1;33m)\u001b[0m\u001b[1;33m\u001b[0m\u001b[1;33m\u001b[0m\u001b[0m\n\u001b[1;32m---> 20\u001b[1;33m \u001b[0mprint\u001b[0m\u001b[1;33m(\u001b[0m\u001b[0mobj\u001b[0m\u001b[1;33m.\u001b[0m\u001b[0m__printNames\u001b[0m\u001b[1;33m(\u001b[0m\u001b[1;33m)\u001b[0m\u001b[1;33m)\u001b[0m\u001b[1;33m\u001b[0m\u001b[1;33m\u001b[0m\u001b[0m\n\u001b[0m\u001b[0;32m     21\u001b[0m \u001b[0mprint\u001b[0m\u001b[1;33m(\u001b[0m\u001b[0mobj\u001b[0m\u001b[1;33m.\u001b[0m\u001b[0m__name2\u001b[0m\u001b[1;33m)\u001b[0m\u001b[1;33m\u001b[0m\u001b[1;33m\u001b[0m\u001b[0m\n",
      "\u001b[1;31mAttributeError\u001b[0m: 'PrivateMemberTest' object has no attribute '__printNames'"
     ]
    }
   ],
   "source": [
    "# private 기능\n",
    "# __로 시작하는 변수는  private 객체, 외부 변수로 직접 접근하여 사용 불가능 \n",
    "class PrivateMemberTest:\n",
    "    def __init__(self,name1,name2):\n",
    "        self.name1 = name1\n",
    "        self.__name2 = name2  # private 객체\n",
    "        print('initialized with ' + name1, ' ,' + name2)\n",
    "    \n",
    "    def getNames(self):\n",
    "        self.__printNames() # class 내부에서는 얼마든지 사용가능 \n",
    "        return self.name1, self.__name2\n",
    "    \n",
    "    def __printNames(self): # private 메서드\n",
    "        print(self.name1, self.__name2)\n",
    "        \n",
    "obj = PrivateMemberTest('PARK','KIM')\n",
    "\n",
    "print(obj.name1) # public\n",
    "print(obj.getNames()) # public\n",
    "print(obj.__printNames()) #private\n",
    "print(obj.__name2) #private"
   ]
  },
  {
   "cell_type": "code",
   "execution_count": 39,
   "metadata": {},
   "outputs": [
    {
     "name": "stdout",
     "output_type": "stream",
     "text": [
      "[def]  lee\n",
      "[def]  KIM\n",
      "[sametest]  KIM\n"
     ]
    }
   ],
   "source": [
    "# 외부함수와 이름이 같은 경우\n",
    "def print_name(name):\n",
    "    print('[def] ',name)\n",
    "    \n",
    "class SameTest:\n",
    "    def __init__(self):\n",
    "        pass\n",
    "    def print_name(self,name):\n",
    "        print('[sametest] ',name)\n",
    "        \n",
    "    def call_test(self):\n",
    "        print_name('KIM')\n",
    "        self.print_name('KIM')\n",
    "        \n",
    "obj = SameTest()\n",
    "print_name('lee')\n",
    "obj.call_test()"
   ]
  },
  {
   "cell_type": "code",
   "execution_count": 43,
   "metadata": {},
   "outputs": [],
   "source": [
    "# 예외처리\n",
    "def calc(list_data):\n",
    "    sum = 0\n",
    "    try:\n",
    "        sum = list_data[0] + list_data[1] + list_data[2]\n",
    "        \n",
    "        if sum < 0:\n",
    "            raise Exception('Sum is minus') # 의도적으로 exception 발생시킴\n",
    "            \n",
    "    except IndexError as err:\n",
    "        print(str(err))\n",
    "        \n",
    "    except Exception as err:\n",
    "        print(str(err))\n",
    "    finally:\n",
    "        print(sum)"
   ]
  },
  {
   "cell_type": "code",
   "execution_count": 44,
   "metadata": {
    "scrolled": true
   },
   "outputs": [
    {
     "name": "stdout",
     "output_type": "stream",
     "text": [
      "list index out of range\n",
      "0\n",
      "Sum is minus\n",
      "-97\n"
     ]
    }
   ],
   "source": [
    "calc([1,2])\n",
    "calc([1,2,-100])"
   ]
  },
  {
   "cell_type": "markdown",
   "metadata": {},
   "source": [
    "# with 구문"
   ]
  },
  {
   "cell_type": "code",
   "execution_count": null,
   "metadata": {},
   "outputs": [],
   "source": [
    "# 원래 구문\n",
    "f = open('./file_test','w')\n",
    "f.write('Hello python !!!')\n",
    "f.close()\n",
    "\n",
    "# with 사용시 close 안해도 됨\n",
    "with open('./file_test','w') as f:\n",
    "    f.write('hello python !!!')"
   ]
  },
  {
   "cell_type": "markdown",
   "metadata": {},
   "source": [
    "# 예외처리"
   ]
  },
  {
   "cell_type": "code",
   "execution_count": 54,
   "metadata": {},
   "outputs": [
    {
     "name": "stdout",
     "output_type": "stream",
     "text": [
      "0으로 나눌수 없습니다\n"
     ]
    }
   ],
   "source": [
    "try:\n",
    "    a = 3/0\n",
    "except ZeroDivisionError:\n",
    "    print('0으로 나눌수 없습니다')"
   ]
  },
  {
   "cell_type": "code",
   "execution_count": 56,
   "metadata": {},
   "outputs": [
    {
     "name": "stdout",
     "output_type": "stream",
     "text": [
      "에러 발생 invalid literal for int() with base 10: 'abc'\n"
     ]
    }
   ],
   "source": [
    "# 에러 이름을 모를 떄\n",
    "try:\n",
    "#    list = []\n",
    "#    print(list[0])\n",
    "    \n",
    "    text = 'abc'\n",
    "    number=int(text)\n",
    "except Exception as ex:\n",
    "    print('에러 발생',ex)"
   ]
  },
  {
   "cell_type": "code",
   "execution_count": 58,
   "metadata": {},
   "outputs": [
    {
     "name": "stdout",
     "output_type": "stream",
     "text": [
      "잘못된 코드를 넣은것 같습니다\n"
     ]
    }
   ],
   "source": [
    "# 에러 직접 일으키기\n",
    "def rsp(mine, yours):\n",
    "    allowed = ['가위','바위','보']\n",
    "    if mine not in allowed:\n",
    "        raise ValueError\n",
    "    if yours not in allowed:\n",
    "        raise ValueError\n",
    "        \n",
    "try:\n",
    "    rsp('가위','바')\n",
    "except ValueError:\n",
    "    print('잘못된 코드를 넣은것 같습니다')"
   ]
  },
  {
   "cell_type": "code",
   "execution_count": 64,
   "metadata": {},
   "outputs": [
    {
     "name": "stdout",
     "output_type": "stream",
     "text": [
      "1반 반에 190을 넘는 학생이 있습니다.\n",
      "정상 종료\n"
     ]
    }
   ],
   "source": [
    "# 의도적으로 에러를 일으켜서 for문을 중단시키는 경우\n",
    "schools = {'1반':[172,185,198,177,165,199],'2반':[165,177,167,180,191]}\n",
    "try:\n",
    "    for class_number, students in schools.items():\n",
    "        for student in students:\n",
    "            if student > 190:\n",
    "                print(class_number,'반에 190을 넘는 학생이 있습니다.')\n",
    "                raise StopIteration\n",
    "except StopIteration:\n",
    "    print('정상 종료')"
   ]
  }
 ],
 "metadata": {
  "kernelspec": {
   "display_name": "Python 3",
   "language": "python",
   "name": "python3"
  },
  "language_info": {
   "codemirror_mode": {
    "name": "ipython",
    "version": 3
   },
   "file_extension": ".py",
   "mimetype": "text/x-python",
   "name": "python",
   "nbconvert_exporter": "python",
   "pygments_lexer": "ipython3",
   "version": "3.7.6"
  }
 },
 "nbformat": 4,
 "nbformat_minor": 4
}
