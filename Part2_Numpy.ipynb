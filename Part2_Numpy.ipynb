{
 "cells": [
  {
   "cell_type": "markdown",
   "metadata": {},
   "source": [
    "## 목차\n",
    "- 연산, 행렬\n",
    "- broadcast\n",
    "- np.dot\n",
    "- matrix.T\n",
    "- iterator\n",
    "- concatenate\n",
    "- loadtxt\n",
    "- rand\n",
    "- sum, max, min, exp, log\n",
    "- argmax, argmin\n",
    "- zeros, ones"
   ]
  },
  {
   "cell_type": "code",
   "execution_count": 1,
   "metadata": {},
   "outputs": [],
   "source": [
    "import numpy as np"
   ]
  },
  {
   "cell_type": "code",
   "execution_count": 2,
   "metadata": {},
   "outputs": [
    {
     "name": "stdout",
     "output_type": "stream",
     "text": [
      "A= [1 2 3] B= [4 5 6]\n",
      "(3,) (3,)\n",
      "1 1\n"
     ]
    }
   ],
   "source": [
    "A = np.array([1,2,3])\n",
    "B = np.array([4,5,6])\n",
    "\n",
    "print('A=',A,'B=',B)\n",
    "print(A.shape,B.shape)\n",
    "print(A.ndim,B.ndim)"
   ]
  },
  {
   "cell_type": "code",
   "execution_count": 3,
   "metadata": {},
   "outputs": [
    {
     "name": "stdout",
     "output_type": "stream",
     "text": [
      "array:  [5 7 9]\n",
      "list:  [1, 2, 3, 4, 5, 6]\n"
     ]
    }
   ],
   "source": [
    "# 연산\n",
    "print('array: ',A + B)\n",
    "print('list: ', [1,2,3] + [4,5,6])"
   ]
  },
  {
   "cell_type": "code",
   "execution_count": 4,
   "metadata": {},
   "outputs": [
    {
     "name": "stdout",
     "output_type": "stream",
     "text": [
      "A= [[1 2 3]\n",
      " [4 5 6]] B= [[-1 -2 -3]\n",
      " [-4 -5 -6]]\n",
      "(2, 3) (2, 3)\n",
      "2 2\n"
     ]
    }
   ],
   "source": [
    "# 행렬\n",
    "A = np.array([[1,2,3],[4,5,6]])\n",
    "B = np.array([[-1,-2,-3],[-4,-5,-6]])\n",
    "print('A=',A,'B=',B)\n",
    "print(A.shape,B.shape)\n",
    "print(A.ndim,B.ndim)"
   ]
  },
  {
   "cell_type": "code",
   "execution_count": 5,
   "metadata": {},
   "outputs": [
    {
     "name": "stdout",
     "output_type": "stream",
     "text": [
      "(3,)\n",
      "[1 2 3]\n",
      "[[1 2 3]]\n"
     ]
    }
   ],
   "source": [
    "# reshape\n",
    "C = np.array([1,2,3])\n",
    "print(C.shape)\n",
    "print(C)\n",
    "C = C.reshape(1,3)\n",
    "print(C)"
   ]
  },
  {
   "cell_type": "code",
   "execution_count": 31,
   "metadata": {},
   "outputs": [
    {
     "name": "stdout",
     "output_type": "stream",
     "text": [
      "(2, 3) (3, 2)\n"
     ]
    }
   ],
   "source": [
    "# 행렬곱 (dot product)\n",
    "# 앞 매트릭스의 열과 뒷 매트릭스의 행 맞춰줘야 가능 \n",
    "A = np.array([[1,2,3],[4,5,6]])\n",
    "B = np.array([[-1,-2],[-3,-4],[-5,-6]])\n",
    "print(A.shape,B.shape)"
   ]
  },
  {
   "cell_type": "code",
   "execution_count": 34,
   "metadata": {},
   "outputs": [
    {
     "data": {
      "text/plain": [
       "array([[-22, -28],\n",
       "       [-49, -64]])"
      ]
     },
     "execution_count": 34,
     "metadata": {},
     "output_type": "execute_result"
    }
   ],
   "source": [
    "np.dot(A,B)"
   ]
  },
  {
   "cell_type": "code",
   "execution_count": 7,
   "metadata": {},
   "outputs": [
    {
     "name": "stdout",
     "output_type": "stream",
     "text": [
      "[[1 2]\n",
      " [3 4]\n",
      " [5 6]]\n",
      "[[ 5  7]\n",
      " [ 7  9]\n",
      " [ 9 11]]\n"
     ]
    }
   ],
   "source": [
    "# boradcast 기능\n",
    "# 차원이 작은 쪽이 큰 쪽의 행단위로 반복적으로 크기를 맞춘 후 계산 (차원 통일)\n",
    "A = np.array([[1,2],[3,4],[5,6]])\n",
    "B = np.array([4,5])\n",
    "print(A)\n",
    "print(A + B)"
   ]
  },
  {
   "cell_type": "code",
   "execution_count": 9,
   "metadata": {},
   "outputs": [
    {
     "name": "stdout",
     "output_type": "stream",
     "text": [
      "(3, 2) (2, 3)\n",
      "[[1 2]\n",
      " [3 4]\n",
      " [5 6]]\n",
      "[[1 3 5]\n",
      " [2 4 6]]\n",
      "(5,) (1, 5) (5, 1)\n",
      "[1 2 3 4 5]\n",
      "[[1 2 3 4 5]]\n",
      "[[1]\n",
      " [2]\n",
      " [3]\n",
      " [4]\n",
      " [5]]\n"
     ]
    }
   ],
   "source": [
    "# 전치행렬\n",
    "A = np.array([[1,2],[3,4],[5,6]])\n",
    "B = A.T\n",
    "print(A.shape,B.shape)\n",
    "print(A)\n",
    "print(B)\n",
    "\n",
    "C = np.array([1,2,3,4,5])\n",
    "D = C.T\n",
    "E = C.reshape(1,5)\n",
    "F = E.T\n",
    "print(C.shape,E.shape,F.shape)\n",
    "print(C)\n",
    "print(E)\n",
    "print(F)"
   ]
  },
  {
   "cell_type": "code",
   "execution_count": 11,
   "metadata": {},
   "outputs": [
    {
     "name": "stdout",
     "output_type": "stream",
     "text": [
      "[[10 20 30 40]\n",
      " [50 60 70 80]] \n",
      "\n",
      "A.shape == (2, 4) \n",
      "\n",
      "current_value => 10\n",
      "current_value => 20\n",
      "current_value => 30\n",
      "current_value => 40\n",
      "current_value => 50\n",
      "current_value => 60\n",
      "current_value => 70\n",
      "current_value => 80\n"
     ]
    }
   ],
   "source": [
    "# iterator\n",
    "# 행단위로 원소를 접근하여 원소 호출\n",
    "A = np.array([[10,20,30,40],[50,60,70,80]])\n",
    "print(A,'\\n')\n",
    "print('A.shape ==',A.shape,'\\n')\n",
    "\n",
    "it = np.nditer(A,flags = ['multi_index'], op_flags = ['readwrite'])\n",
    "while not it.finished:\n",
    "    idx = it.multi_index\n",
    "    print('current_value =>',A[idx])\n",
    "    it.iternext()"
   ]
  },
  {
   "cell_type": "code",
   "execution_count": 17,
   "metadata": {},
   "outputs": [
    {
     "name": "stdout",
     "output_type": "stream",
     "text": [
      "(2, 3)\n",
      "[[10 20 30]\n",
      " [40 50 60]\n",
      " [70 80 90]]\n",
      "[[  10   20   30 1000]\n",
      " [  40   50   60 2000]]\n"
     ]
    }
   ],
   "source": [
    "# concatenate\n",
    "# 행렬의 결합\n",
    "A = np.array([[10,20,30],[40,50,60]])\n",
    "print(A.shape)\n",
    "row_add = np.array([70,80,90]).reshape(1,3) # 벡터를 행렬로 만들기 위해서는 차원 부여 필요\n",
    "\n",
    "col_add = np.array([1000,2000]).reshape(2,1)\n",
    "\n",
    "B = np.concatenate((A,row_add), axis=0)\n",
    "C = np.concatenate((A,col_add), axis=1)\n",
    "\n",
    "print(B)\n",
    "print(C)"
   ]
  },
  {
   "cell_type": "code",
   "execution_count": null,
   "metadata": {},
   "outputs": [],
   "source": [
    "# loadtxt\n",
    "# sperator로 구분된 파일에서 데이터 읽어 오기\n",
    "loaded_data = np.loadtxt('./data-01.txt',delimiter=',', dtype=np.float32)\n",
    "x_data = loaded_data[:,0:-1]\n",
    "t_data = loaded_data[:,-1]\n",
    "\n",
    "print('x_data_ndim = ', x_data.ndim,\", x_data.shape = \", x_data.shape)\n",
    "print('t_data_ndim = ', t_data.ndim,\", t_data.shape = \", t_data.shape)"
   ]
  },
  {
   "cell_type": "code",
   "execution_count": 19,
   "metadata": {},
   "outputs": [
    {
     "name": "stdout",
     "output_type": "stream",
     "text": [
      "random number1 == [0.19433852 0.79663173 0.80873935] (3,)\n",
      "random number2 == [[0.09501052 0.82564172 0.52570754]] (1, 3)\n",
      "random number3 == [[0.04324657]\n",
      " [0.12459886]\n",
      " [0.42601498]] (3, 1)\n"
     ]
    }
   ],
   "source": [
    "# rand\n",
    "# 0 ~ 1 사이의 random number 발생\n",
    "random_number1 = np.random.rand(3)\n",
    "random_number2 = np.random.rand(1,3)\n",
    "random_number3 = np.random.rand(3,1)\n",
    "\n",
    "print('random number1 ==',random_number1, random_number1.shape)\n",
    "print('random number2 ==',random_number2, random_number2.shape)\n",
    "print('random number3 ==',random_number3, random_number3.shape)"
   ]
  },
  {
   "cell_type": "code",
   "execution_count": 20,
   "metadata": {},
   "outputs": [
    {
     "name": "stdout",
     "output_type": "stream",
     "text": [
      "20\n",
      "[0.69314718 1.38629436 1.79175947 2.07944154]\n",
      "[   7.3890561    54.59815003  403.42879349 2980.95798704]\n"
     ]
    }
   ],
   "source": [
    "# sum, exp, log\n",
    "X = np.array([2,4,6,8])\n",
    "print(np.sum(X))\n",
    "print(np.log(X))\n",
    "print(np.exp(X))"
   ]
  },
  {
   "cell_type": "code",
   "execution_count": 21,
   "metadata": {},
   "outputs": [
    {
     "name": "stdout",
     "output_type": "stream",
     "text": [
      "[2 4 6 8]\n",
      "3\n",
      "0\n"
     ]
    }
   ],
   "source": [
    "# argmax, argmin\n",
    "# 최대값, 최소값의 인덱스를 리턴\n",
    "print(X)\n",
    "print(np.argmax(X))\n",
    "print(np.argmin(X))"
   ]
  },
  {
   "cell_type": "code",
   "execution_count": 23,
   "metadata": {},
   "outputs": [
    {
     "name": "stdout",
     "output_type": "stream",
     "text": [
      "[[0. 0. 0.]\n",
      " [0. 0. 0.]\n",
      " [0. 0. 0.]]\n",
      "[[1. 1.]\n",
      " [1. 1.]\n",
      " [1. 1.]]\n"
     ]
    }
   ],
   "source": [
    "# zeros, ones\n",
    "A = np.zeros([3,3])\n",
    "print(A)\n",
    "B = np.ones([3,2])\n",
    "print(B)"
   ]
  },
  {
   "cell_type": "code",
   "execution_count": 25,
   "metadata": {},
   "outputs": [
    {
     "name": "stdout",
     "output_type": "stream",
     "text": [
      "np.max(X) == [2 5 8]\n",
      "np.min(X) == [0 2 3]\n",
      "np.max(X) == [6 3 8]\n",
      "np.min(X) == [2 1 0]\n",
      "np.argmax(X) == [0 2 2]\n",
      "np.argmin(X) == [2 1 1]\n",
      "np.argmax(X) == [2 2 2]\n",
      "np.argmin(X) == [0 0 0]\n"
     ]
    }
   ],
   "source": [
    "X = np.array([ [2, 4, 6], [1, 2, 3], [0, 5, 8] ]) \n",
    "\n",
    "print(\"np.max(X) ==\", np.max(X, axis=0)) # axis=0, 열기준\n",
    "print(\"np.min(X) ==\", np.min(X, axis=0)) # axis=0, 열기준\n",
    "\n",
    "print(\"np.max(X) ==\", np.max(X, axis=1)) # axis=1, 행기준\n",
    "print(\"np.min(X) ==\", np.min(X, axis=1)) # axis=1, 행기준\n",
    "\n",
    "print(\"np.argmax(X) ==\", np.argmax(X, axis=0)) # axis=0, 열기준\n",
    "print(\"np.argmin(X) ==\", np.argmin(X, axis=0)) # axis=0, 열기준\n",
    "\n",
    "print(\"np.argmax(X) ==\", np.argmax(X, axis=1)) # axis=1, 행기준\n",
    "print(\"np.argmin(X) ==\", np.argmin(X, axis=1)) # axis=1, 행기준"
   ]
  },
  {
   "cell_type": "code",
   "execution_count": 27,
   "metadata": {},
   "outputs": [
    {
     "data": {
      "image/png": "[encoded data removed]",
      "text/plain": [
       "<Figure size 432x288 with 1 Axes>"
      ]
     },
     "metadata": {
      "needs_background": "light"
     },
     "output_type": "display_data"
    }
   ],
   "source": [
    "import matplotlib.pyplot as plt\n",
    "%matplotlib inline\n",
    "\n",
    "x_data = np.random.rand(100)\n",
    "y_data = np.random.rand(100)\n",
    "\n",
    "plt.title('scatter plot')\n",
    "plt.grid()\n",
    "plt.scatter(x_data,y_data,color='b',marker='o')\n",
    "plt.show()"
   ]
  },
  {
   "cell_type": "code",
   "execution_count": 28,
   "metadata": {},
   "outputs": [
    {
     "data": {
      "text/plain": [
       "[<matplotlib.lines.Line2D at 0x23af0ed3788>]"
      ]
     },
     "execution_count": 28,
     "metadata": {},
     "output_type": "execute_result"
    },
    {
     "data": {
      "image/png": "[encoded data removed]",
      "text/plain": [
       "<Figure size 432x288 with 1 Axes>"
      ]
     },
     "metadata": {
      "needs_background": "light"
     },
     "output_type": "display_data"
    }
   ],
   "source": [
    "x_data = [x for x in range(-5,5)]\n",
    "y_data = [y*y for y in range(-5,5)]\n",
    "\n",
    "plt.title('line plot')\n",
    "plt.grid()\n",
    "plt.plot(x_data,y_data,color='b')"
   ]
  },
  {
   "cell_type": "code",
   "execution_count": 30,
   "metadata": {},
   "outputs": [
    {
     "data": {
      "image/png": "[encoded data removed]",
      "text/plain": [
       "<Figure size 432x288 with 1 Axes>"
      ]
     },
     "metadata": {
      "needs_background": "light"
     },
     "output_type": "display_data"
    }
   ],
   "source": [
    "import matplotlib.pyplot as plt\n",
    "\n",
    "\n",
    "# 주피터 노트북을 사용하는 경우 노트북 내부에 그림 표시\n",
    "%matplotlib inline \n",
    "\n",
    "x_data = [ -3,  -2, -1, 0, 1, 2,   3,  4, 5, 6, 7,  8, 9 ]\n",
    "y_data = [ -8, -13, -0, 3, 6, -1, -5, -7, 1, 8, 7, 12, 13 ] \n",
    "\n",
    "plt.title('line plot')\n",
    "plt.grid() \n",
    "plt.plot(x_data, y_data, color='b') \n",
    "plt.show()"
   ]
  }
 ],
 "metadata": {
  "kernelspec": {
   "display_name": "Python 3",
   "language": "python",
   "name": "python3"
  },
  "language_info": {
   "codemirror_mode": {
    "name": "ipython",
    "version": 3
   },
   "file_extension": ".py",
   "mimetype": "text/x-python",
   "name": "python",
   "nbconvert_exporter": "python",
   "pygments_lexer": "ipython3",
   "version": "3.7.6"
  }
 },
 "nbformat": 4,
 "nbformat_minor": 4
}
